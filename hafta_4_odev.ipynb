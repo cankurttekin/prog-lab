{
 "cells": [
  {
   "cell_type": "markdown",
   "metadata": {},
   "source": [
    "# CAN KURTTEKİN 170401015 hafta 4 ödev/quiz"
   ]
  },
  {
   "cell_type": "markdown",
   "metadata": {},
   "source": [
    "min_heapify fonksiyonu:\n",
    "aldigi parametreler array ve index\n",
    "parametre olarak girilen indexteki değer ile sağındaki ve solundakileri karşılaştıp yer değiştirir."
   ]
  },
  {
   "cell_type": "code",
   "execution_count": 52,
   "metadata": {},
   "outputs": [],
   "source": [
    "def min_heapify(array, i):\n",
    "    left = 2*i + 1\n",
    "    right = 2*i + 2\n",
    "    length = len(array)-1\n",
    "    smallest = i\n",
    "    if left <= length and array [i] > array [left]:\n",
    "        smallest = left\n",
    "    if right <= length and array [smallest] > array[right]:\n",
    "        smallest = right\n",
    "    if smallest != i:\n",
    "        array[i], array[smallest] = array[smallest], array[i]\n",
    "        min_heapify(array, smallest)\n"
   ]
  },
  {
   "cell_type": "markdown",
   "metadata": {},
   "source": [
    "build_min_heap fonksiyonu: \n",
    "aldığı parametre array. gönderilen array in yarisini min_heapify a gönderir."
   ]
  },
  {
   "cell_type": "code",
   "execution_count": 53,
   "metadata": {},
   "outputs": [],
   "source": [
    "def build_min_heap(array):\n",
    "    for i in reversed(range(len(array)//2)):\n",
    "        min_heapify(array, i)\n"
   ]
  },
  {
   "cell_type": "code",
   "execution_count": 54,
   "metadata": {},
   "outputs": [
    {
     "data": {
      "text/plain": [
       "[1, 2, 3, 4, 7, 15, 8, 10, 16]"
      ]
     },
     "execution_count": 54,
     "metadata": {},
     "output_type": "execute_result"
    }
   ],
   "source": [
    "my_array_1 = [8,10,3,4,7,15,1,2,16]\n",
    "build_min_heap(my_array_1)\n",
    "my_array_1"
   ]
  },
  {
   "cell_type": "markdown",
   "metadata": {},
   "source": [
    "heapsort fonksiyonu: parametre array alır.\n",
    "küçükten büyüğe sıralanmış sorted_array return eder."
   ]
  },
  {
   "cell_type": "code",
   "execution_count": 63,
   "metadata": {},
   "outputs": [],
   "source": [
    "def heapsort(array):\n",
    "    array = array.copy()\n",
    "    build_min_heap(array)\n",
    "    sorted_array = []\n",
    "    for _ in range(len(array)):\n",
    "        array[0], array[-1] = array[-1], array[0]\n",
    "        sorted_array.append(array.pop())\n",
    "        min_heapify(array,0)\n",
    "    return sorted_array"
   ]
  },
  {
   "cell_type": "code",
   "execution_count": 56,
   "metadata": {},
   "outputs": [
    {
     "data": {
      "text/plain": [
       "([8, 10, 3, 4, 7, 15, 1, 2, 16], [1, 2, 3, 4, 7, 8, 10, 15, 16])"
      ]
     },
     "execution_count": 56,
     "metadata": {},
     "output_type": "execute_result"
    }
   ],
   "source": [
    "my_array_1 = [8,10,3,4,7,15,1,2,16]\n",
    "my_array_2 = heapsort(my_array_1)\n",
    "my_array_1,my_array_2"
   ]
  },
  {
   "cell_type": "markdown",
   "metadata": {},
   "source": [
    "insertItemToHeap fonksiyonu: parametreler myheap_1 ve item.\n",
    "itemi ekleyip myheap_1 i dondurur."
   ]
  },
  {
   "cell_type": "code",
   "execution_count": 57,
   "metadata": {},
   "outputs": [],
   "source": [
    "def insertItemToHeap(myheap_1,item):\n",
    "    length = len(myheap_1)\n",
    "    if length == 0:\n",
    "        myheap_1.append(item)\n",
    "        return myheap_1\n",
    "    else:\n",
    "        myheap_1.append(item)\n",
    "        build_min_heap(myheap_1)\n",
    "    return myheap_1\n"
   ]
  },
  {
   "cell_type": "code",
   "execution_count": 58,
   "metadata": {},
   "outputs": [
    {
     "data": {
      "text/plain": [
       "[8, 10, 3, 4, 7, 15, 1, 2, 16]"
      ]
     },
     "execution_count": 58,
     "metadata": {},
     "output_type": "execute_result"
    }
   ],
   "source": [
    "my_array_1 = [8,10,3,4,7,15,1,2,16]\n",
    "my_array_1"
   ]
  },
  {
   "cell_type": "code",
   "execution_count": 59,
   "metadata": {},
   "outputs": [
    {
     "data": {
      "text/plain": [
       "[1, 2, 3, 4, 7, 15, 8, 10, 16, 8]"
      ]
     },
     "execution_count": 59,
     "metadata": {},
     "output_type": "execute_result"
    }
   ],
   "source": [
    "x=insertItemToHeap(my_array_1,8)\n",
    "x"
   ]
  },
  {
   "cell_type": "markdown",
   "metadata": {},
   "source": [
    "removeItemFrom fonksiyonu: parametre olarak dizi alır.\n",
    "son elemani silip diziyi return eder"
   ]
  },
  {
   "cell_type": "code",
   "execution_count": 64,
   "metadata": {},
   "outputs": [],
   "source": [
    "def removeItemFrom(myheap_1):\n",
    "    length = len(myheap_1)\n",
    "    myheap_1.pop()\n",
    "    return myheap_1"
   ]
  },
  {
   "cell_type": "code",
   "execution_count": 61,
   "metadata": {},
   "outputs": [
    {
     "data": {
      "text/plain": [
       "[1, 2, 3, 4, 7, 15, 8, 10, 16]"
      ]
     },
     "execution_count": 61,
     "metadata": {},
     "output_type": "execute_result"
    }
   ],
   "source": [
    "y=removeItemFrom(my_array_1)\n",
    "y"
   ]
  },
  {
   "cell_type": "code",
   "execution_count": null,
   "metadata": {},
   "outputs": [],
   "source": []
  }
 ],
 "metadata": {
  "kernelspec": {
   "display_name": "Python 3",
   "language": "python",
   "name": "python3"
  },
  "language_info": {
   "codemirror_mode": {
    "name": "ipython",
    "version": 3
   },
   "file_extension": ".py",
   "mimetype": "text/x-python",
   "name": "python",
   "nbconvert_exporter": "python",
   "pygments_lexer": "ipython3",
   "version": "3.7.1"
  }
 },
 "nbformat": 4,
 "nbformat_minor": 2
}
